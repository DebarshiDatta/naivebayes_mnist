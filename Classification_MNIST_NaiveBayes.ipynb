{
 "cells": [
  {
   "cell_type": "markdown",
   "metadata": {},
   "source": [
    "Name: Ibrahim Odumas Odufowora <br />\n",
    "Course: Machine Learning <br />\n",
    "Project Name: Classification with MNIST <br />\n",
    "\n",
    "If the Latex formula are not showing correctly, please use chrome browser."
   ]
  },
  {
   "cell_type": "markdown",
   "metadata": {},
   "source": [
    "# Problems Identification:\n",
    "This project involves the implementation of efficient and effective Naive Bayes and Logistic Regression classifiers on MNIST data set. The MNIST data comprises of digital images of several digits ranging from 0 to 9. Each image is 28 x 28 pixels. Thus, the data set has 10 levels of classes."
   ]
  },
  {
   "cell_type": "markdown",
   "metadata": {},
   "source": [
    "These are the needed packages:"
   ]
  },
  {
   "cell_type": "code",
   "execution_count": 47,
   "metadata": {},
   "outputs": [
    {
     "data": {
      "text/html": [
       "<script>requirejs.config({paths: { 'plotly': ['https://cdn.plot.ly/plotly-latest.min']},});if(!window.Plotly) {{require(['plotly'],function(plotly) {window.Plotly=plotly;});}}</script>"
      ],
      "text/vnd.plotly.v1+html": [
       "<script>requirejs.config({paths: { 'plotly': ['https://cdn.plot.ly/plotly-latest.min']},});if(!window.Plotly) {{require(['plotly'],function(plotly) {window.Plotly=plotly;});}}</script>"
      ]
     },
     "metadata": {},
     "output_type": "display_data"
    }
   ],
   "source": [
    "import warnings\n",
    "from scipy.stats import mode\n",
    "import numpy as np\n",
    "from mnist import MNIST\n",
    "from time import time\n",
    "import pandas as pd\n",
    "import os\n",
    "import matplotlib.pyplot as plt\n",
    "warnings.filterwarnings(\"ignore\", category=DeprecationWarning)\n",
    "import random\n",
    "plt.rcdefaults()\n",
    "from IPython.display import display, HTML\n",
    "from itertools import chain\n",
    "from sklearn.metrics import confusion_matrix\n",
    "from pylab import subplot\n",
    "from plotly.offline import download_plotlyjs, init_notebook_mode, plot, iplot\n",
    "init_notebook_mode(connected=True)\n",
    "import pandas as pd\n",
    "import numpy as np\n",
    "from plotly.graph_objs import *\n",
    "import warnings\n",
    "warnings.filterwarnings(\"ignore\", category=DeprecationWarning)\n",
    "warnings.simplefilter('ignore')"
   ]
  },
  {
   "cell_type": "markdown",
   "metadata": {},
   "source": [
    "Load the dataset, having downloaded it from Yann. The train data set comprises of 60,000 samples and the test data set has 10,000 samples."
   ]
  },
  {
   "cell_type": "code",
   "execution_count": 9,
   "metadata": {
    "collapsed": true
   },
   "outputs": [],
   "source": [
    "__mndata__ = MNIST(os.getcwd() +'\\\\image')\n",
    "__train_image__, __train_label__ = __mndata__.load_training() #train & train_label\n",
    "__test_image__, __test_label__ = __mndata__.load_testing() #test & test_label"
   ]
  },
  {
   "cell_type": "markdown",
   "metadata": {},
   "source": [
    "The train and test images were reshaped to 784 dimension long, which translate to one feature for each pixel in the image."
   ]
  },
  {
   "cell_type": "markdown",
   "metadata": {},
   "source": [
    "### Visualization:\n",
    "Visualizing a random 28 by 28 image."
   ]
  },
  {
   "cell_type": "code",
   "execution_count": 147,
   "metadata": {},
   "outputs": [
    {
     "data": {
      "image/png": "[encoded data removed]",
      "text/plain": [
       "<matplotlib.figure.Figure at 0x2ae1e5ccf98>"
      ]
     },
     "metadata": {},
     "output_type": "display_data"
    }
   ],
   "source": [
    "plt.imshow(np.reshape(train[random.randint(1,1000)], [28,28]), cmap='Greys_r'); plt.title('Visualizing a random sample'); plt.show()"
   ]
  },
  {
   "cell_type": "markdown",
   "metadata": {},
   "source": [
    "### Implementation functions:"
   ]
  },
  {
   "cell_type": "code",
   "execution_count": 43,
   "metadata": {
    "collapsed": true
   },
   "outputs": [],
   "source": [
    "class Utility:\n",
    "    \"\"\"This class warehouses the data and other general functions\"\"\"\n",
    "    def __init__(self):\n",
    "        self.train = np.asarray([np.reshape(x, (784)) for x in __train_image__]).astype('float64') #change train_image to numpy array #784 means 28 by 28 pixel\n",
    "        self.train_label = np.asarray(__train_label__)\n",
    "        self.test = np.asarray([np.reshape(x, (784)) for x in __test_image__]).astype('float64') #change test_image to numpy array\n",
    "        self.test_label = np.asarray(__test_label__)\n",
    "        self.n_class = list(range(10)) #class labels\n",
    "        \n",
    "    def confusionMatrix(self, actual, predict, print_cfm=True, print_err_digit=True):\n",
    "        cfm = pd.DataFrame(confusion_matrix(actual, predict))\n",
    "        err_all = round((1 - sum(np.diagonal(cfm)) / len(predict)) * 100, 4)\n",
    "        error_digit = []\n",
    "        for i in self.n_class:\n",
    "            error_digit.append(round(1 - cfm.iloc[i,i] / sum(cfm.iloc[i,:]), 4) * 100)\n",
    "\n",
    "        tab_error = pd.DataFrame(columns=['digit', 'error per digit in %'])\n",
    "        tab_error['digit'] = self.n_class\n",
    "        tab_error['error per digit in %'] = error_digit\n",
    "\n",
    "        if print_cfm:\n",
    "            print('Testing Confusion Matrix: Actual vs. Prediction')\n",
    "            display(cfm)\n",
    "\n",
    "        if print_err_digit:\n",
    "            print('% error per digit')\n",
    "            display(tab_error)\n",
    "            print('\\nThe overall testing error is {}%'.format(err_all))\n",
    "\n",
    "        return cfm, tab_error, err_all\n",
    "\n",
    "\n",
    "    def nFoldCV_NB(self, train, train_label, smoothings, kFolds):\n",
    "        stra_all = self.folds_stratify(nSample=len(train), kFolds=kFolds)\n",
    "        ave_test_err = []\n",
    "        for s, sVal in enumerate(smoothings):\n",
    "            test_err = []\n",
    "            for k in range(kFolds):\n",
    "                stra = stra_all.copy()\n",
    "                te = train[stra[k]]\n",
    "                te_lb = train_label[stra[k]]\n",
    "                del stra[k]  # del test list\n",
    "                tr = train[list(chain.from_iterable(stra))]\n",
    "                tr_lb = train_label[list(chain.from_iterable(stra))]\n",
    "                nb = NaiveBayes(train=tr, train_lb=tr_lb, test=te, test_lb=te_lb, smoothing=sVal)\n",
    "                nb.predict()\n",
    "                conf = self.confusionMatrix(te_lb, nb.pred, False, False)\n",
    "                test_err.append(conf[2])\n",
    "\n",
    "            ave_test_err.append(np.mean(test_err))\n",
    "\n",
    "        return ave_test_err\n",
    "\n",
    "    def folds_stratify(self, nSample, kFolds):\n",
    "        \"\"\"This return kfold stratification\"\"\"\n",
    "        foldSize = round(nSample / kFolds, 0)\n",
    "        randomList = list(range(0, nSample))\n",
    "        random.shuffle(randomList)\n",
    "        stratify = []\n",
    "\n",
    "        for k in range(0, kFolds):\n",
    "            strt = int(k * foldSize)\n",
    "            end = int((k + 1) * foldSize)\n",
    "            if k == (kFolds - 1):\n",
    "                end = nSample\n",
    "            stratify.append(list(randomList)[strt:end])\n",
    "\n",
    "        return stratify\n",
    "    \n",
    "    def CV_plot(k_error, k_list, title):\n",
    "        k_error = np.round(k_error, 4)\n",
    "        best_k = k_list[np.argmin(k_error)]\n",
    "        err_best_k = np.min(k_error)\n",
    "        plt.plot(k_list, k_error, '-gD', color='black')\n",
    "        ax = subplot(111)\n",
    "        ax.set_xticks(k_list, k_list)\n",
    "        plt.ylabel('% Error')\n",
    "        plt.xlabel(title)\n",
    "        plt.title('Plot of ' + title + ' vs. average 5 foldCV error')\n",
    "        plt.show()\n",
    "        print('The best value of ' + title + ' is {} with an error of {}%'.format(best_k, err_best_k))\n",
    "        print('\\n' + title + ' = {} will be used to model the entire training set and prediction on testing set:'.format(best_k))\n",
    "        return best_k, err_best_k\n",
    "        \n",
    "    def images_plot(imageData):\n",
    "        classes = [\"P(x|c=0)\", \"P(x|c=1)\", \"P(x|c=2)\", \"P(x|c=3)\", \"P(x|c=4)\", \"P(x|c=5)\", \"P(x|c=6)\", \"P(x|c=7)\",\n",
    "                   \"P(x|c=8)\", \"P(x|c=9)\"]\n",
    "\n",
    "        num_classes = len(classes)\n",
    "        plt.subplots(figsize=(15, 2))\n",
    "        for y, cls in enumerate(classes):\n",
    "            plt_idx = y + 1\n",
    "            plt.subplot(1, num_classes, plt_idx)\n",
    "            if prob:\n",
    "                plt.imshow(imageData[y].reshape((28, 28)))\n",
    "            else:\n",
    "                plt.imshow(imageData[y].reshape(785, 1)[1:785].reshape((28, 28)))\n",
    "            plt.axis(\"off\")\n",
    "            plt.title(cls)\n",
    "\n",
    "        plt.tight_layout()\n",
    "        plt.show()\n",
    "        \n",
    "#End of Class Utility\n",
    "\n",
    "class NaiveBayes:\n",
    "    \"\"\"This class warehouses the Naive bayes classifier\"\"\"\n",
    "    def __init__(self, train, train_lb, test, test_lb, smoothing, jupyter=True, plot_dis=False):\n",
    "        self.n_class = np.unique(train_lb)\n",
    "        self.tr = train\n",
    "        self.te = test\n",
    "        self.tr_lb = train_lb\n",
    "        self.te_lb = test_lb\n",
    "        self.plot_dis = plot_dis\n",
    "        self.jupyter = jupyter\n",
    "        self.smoothing = smoothing\n",
    "        if jupyter:\n",
    "            self.plotly = iplot\n",
    "        else:\n",
    "            self.plotly = plot\n",
    "\n",
    "    def mean_std_prior(self):\n",
    "        \"\"\"Mean and Std per feature per class, and prior per class\"\"\"\n",
    "        self.mean, self.std, self.priors, self.count = [], [], [], []\n",
    "        for i, val in enumerate(self.n_class):\n",
    "            sep = [self.tr_lb == val] #separated\n",
    "            self.count.append(len(self.tr_lb[sep]))\n",
    "            self.priors.append(len(self.tr_lb[sep]) / len(self.tr_lb))\n",
    "            self.mean.append(np.mean(self.tr[sep], axis=0))\n",
    "            self.std.append(np.std(self.tr[sep], axis=0))\n",
    "\n",
    "        if self.plot_dis:\n",
    "            bar_data = Bar(x=list(range(len(self.count))), y=self.count)\n",
    "            data_plt = Data([bar_data])\n",
    "            layout = Layout(yaxis=YAxis(title='counts'), xaxis=XAxis(title='classes', dtick=1),\n",
    "                            title='Class distribution in Train set')\n",
    "            fig = Figure(data=data_plt, layout=layout)\n",
    "            self.plotly(fig)\n",
    "\n",
    "    def predict(self):\n",
    "        \"\"\"prediction: by summing the natural log of all the conditional probability given the class.\"\"\"\n",
    "        str_time = time()\n",
    "        self.mean_std_prior()\n",
    "        self.pred = []\n",
    "        self.likelihood = []\n",
    "        self.logsum_chk = []\n",
    "        for n in range(len(self.te_lb)):\n",
    "            classifier = []\n",
    "            sample = self.te[n] #test sample\n",
    "            likelih = []\n",
    "            for i, val in enumerate(self.n_class):\n",
    "                mean = self.mean[i]\n",
    "                var = np.square(self.std[i]) + self.smoothing\n",
    "                prob = 1 / np.sqrt(2 * np.pi * var) * np.exp(-np.square(sample - mean)/(2 * var))\n",
    "                result = np.sum(np.log(prob)) #, np.log(self.priors[i])) #not needed, we assume equal prior\n",
    "                classifier.append(result)\n",
    "                likelih.append(prob)\n",
    "\n",
    "            self.pred.append(np.argmax(classifier))\n",
    "            self.likelihood.append(likelih)\n",
    "            self.logsum_chk.append(classifier)\n",
    "\n",
    "        self.end_time = time() - str_time\n",
    "\n",
    "#End of Class Naive Bayes"
   ]
  },
  {
   "cell_type": "markdown",
   "metadata": {},
   "source": [
    "# Question 1: \n",
    "I implemented a Naive Bayes classifier and presented the testing error for each digit in a table. \n",
    "\n",
    "Below are the implemention explanations:\n",
    "\n",
    "Assuming that the probability model for each pixel is Gaussian and that the probability of each class — i.e., digit—is equal. That is, P(c = 0) = P(c = 1) = : : : = P(c = 9), thus, there is no need to model the prior probabilities.\n",
    "\n",
    "$$P(c \\ | \\ X) \\approx \\prod_{i=1}^{784}P(x_{i} \\ | \\ c)$$\n",
    "\n",
    "In order to manage underflow error, the function below will be modeled:\n",
    "\n",
    "$$ ln \\ P(c \\ | \\ X) \\approx \\sum_{i=1}^{784} ln \\ P(x_{i} \\ | \\ c) $$\n",
    "\n",
    "$$ where \\ P(x_{i}|c) = N(\\mu_{i},\\sigma_{i}^{2}\\ | \\ c) \\    is \\ modeled \\ as \\ a \\ Gaussian \\ from \\ the \\ training \\ data. $$\n",
    "\n",
    "$$ Thus, \\ \\mu_{i}|c \\ and \\ \\sigma_{i}^{2}|c  \\ were \\ determined \\ using \\ the \\ training \\ set.$$\n",
    "\n",
    "\n",
    "In order to avoid zero variance while computing the parameters above, smoothing will be applied. This involves adding a reasonable value to all the variances. The maximum variance given a class is about 13083, based on this, smoothing values ranging from 500 to 2000 with an increment of 100 will be tested through 5 fold cross validation by using the training set. The best smoothing value will then be applied to the entire training to get the model parameters. Finally, the parameters will be used for predicting the class label of the testing set. Also, I tried to apply zero - one normalization, but it gave a poor accuracy rate. Thus, feature scaling is not applied."
   ]
  },
  {
   "cell_type": "code",
   "execution_count": 11,
   "metadata": {
    "collapsed": true
   },
   "outputs": [],
   "source": [
    "util = Utility()\n",
    "smoothings_nb = list(range(500, 2100, 100))\n",
    "kfold_nb = util.nFoldCV_NB(util.train, util.train_label, smoothings_nb, kFolds=5)"
   ]
  },
  {
   "cell_type": "code",
   "execution_count": 46,
   "metadata": {
    "scrolled": false
   },
   "outputs": [
    {
     "data": {
      "image/png": "[encoded data removed]",
      "text/plain": [
       "<matplotlib.figure.Figure at 0x1f0aee35470>"
      ]
     },
     "metadata": {},
     "output_type": "display_data"
    },
    {
     "name": "stdout",
     "output_type": "stream",
     "text": [
      "The best value of smoothing is 1000 with an error of 19.86%\n",
      "\n",
      "smoothing = 1000 will be used to model the entire training set and prediction on testing set:\n"
     ]
    }
   ],
   "source": [
    "sm_plot = Utility.CV_plot(kfold_nb, smoothings_nb, 'smoothing')"
   ]
  },
  {
   "cell_type": "code",
   "execution_count": 26,
   "metadata": {
    "scrolled": false
   },
   "outputs": [
    {
     "name": "stdout",
     "output_type": "stream",
     "text": [
      "Testing Confusion Matrix: Actual vs. Prediction\n"
     ]
    },
    {
     "data": {
      "text/html": [
       "<div>\n",
       "<style>\n",
       "    .dataframe thead tr:only-child th {\n",
       "        text-align: right;\n",
       "    }\n",
       "\n",
       "    .dataframe thead th {\n",
       "        text-align: left;\n",
       "    }\n",
       "\n",
       "    .dataframe tbody tr th {\n",
       "        vertical-align: top;\n",
       "    }\n",
       "</style>\n",
       "<table border=\"1\" class=\"dataframe\">\n",
       "  <thead>\n",
       "    <tr style=\"text-align: right;\">\n",
       "      <th></th>\n",
       "      <th>0</th>\n",
       "      <th>1</th>\n",
       "      <th>2</th>\n",
       "      <th>3</th>\n",
       "      <th>4</th>\n",
       "      <th>5</th>\n",
       "      <th>6</th>\n",
       "      <th>7</th>\n",
       "      <th>8</th>\n",
       "      <th>9</th>\n",
       "    </tr>\n",
       "  </thead>\n",
       "  <tbody>\n",
       "    <tr>\n",
       "      <th>0</th>\n",
       "      <td>902</td>\n",
       "      <td>0</td>\n",
       "      <td>0</td>\n",
       "      <td>4</td>\n",
       "      <td>1</td>\n",
       "      <td>11</td>\n",
       "      <td>20</td>\n",
       "      <td>1</td>\n",
       "      <td>37</td>\n",
       "      <td>4</td>\n",
       "    </tr>\n",
       "    <tr>\n",
       "      <th>1</th>\n",
       "      <td>0</td>\n",
       "      <td>1096</td>\n",
       "      <td>1</td>\n",
       "      <td>4</td>\n",
       "      <td>0</td>\n",
       "      <td>0</td>\n",
       "      <td>6</td>\n",
       "      <td>0</td>\n",
       "      <td>28</td>\n",
       "      <td>0</td>\n",
       "    </tr>\n",
       "    <tr>\n",
       "      <th>2</th>\n",
       "      <td>15</td>\n",
       "      <td>36</td>\n",
       "      <td>778</td>\n",
       "      <td>31</td>\n",
       "      <td>9</td>\n",
       "      <td>5</td>\n",
       "      <td>59</td>\n",
       "      <td>14</td>\n",
       "      <td>79</td>\n",
       "      <td>6</td>\n",
       "    </tr>\n",
       "    <tr>\n",
       "      <th>3</th>\n",
       "      <td>6</td>\n",
       "      <td>34</td>\n",
       "      <td>26</td>\n",
       "      <td>814</td>\n",
       "      <td>0</td>\n",
       "      <td>18</td>\n",
       "      <td>15</td>\n",
       "      <td>11</td>\n",
       "      <td>44</td>\n",
       "      <td>42</td>\n",
       "    </tr>\n",
       "    <tr>\n",
       "      <th>4</th>\n",
       "      <td>4</td>\n",
       "      <td>6</td>\n",
       "      <td>5</td>\n",
       "      <td>0</td>\n",
       "      <td>640</td>\n",
       "      <td>4</td>\n",
       "      <td>22</td>\n",
       "      <td>0</td>\n",
       "      <td>19</td>\n",
       "      <td>282</td>\n",
       "    </tr>\n",
       "    <tr>\n",
       "      <th>5</th>\n",
       "      <td>19</td>\n",
       "      <td>28</td>\n",
       "      <td>7</td>\n",
       "      <td>94</td>\n",
       "      <td>23</td>\n",
       "      <td>574</td>\n",
       "      <td>24</td>\n",
       "      <td>11</td>\n",
       "      <td>64</td>\n",
       "      <td>48</td>\n",
       "    </tr>\n",
       "    <tr>\n",
       "      <th>6</th>\n",
       "      <td>12</td>\n",
       "      <td>22</td>\n",
       "      <td>12</td>\n",
       "      <td>1</td>\n",
       "      <td>8</td>\n",
       "      <td>24</td>\n",
       "      <td>865</td>\n",
       "      <td>0</td>\n",
       "      <td>13</td>\n",
       "      <td>1</td>\n",
       "    </tr>\n",
       "    <tr>\n",
       "      <th>7</th>\n",
       "      <td>1</td>\n",
       "      <td>38</td>\n",
       "      <td>8</td>\n",
       "      <td>4</td>\n",
       "      <td>20</td>\n",
       "      <td>0</td>\n",
       "      <td>1</td>\n",
       "      <td>837</td>\n",
       "      <td>25</td>\n",
       "      <td>94</td>\n",
       "    </tr>\n",
       "    <tr>\n",
       "      <th>8</th>\n",
       "      <td>8</td>\n",
       "      <td>67</td>\n",
       "      <td>8</td>\n",
       "      <td>36</td>\n",
       "      <td>11</td>\n",
       "      <td>17</td>\n",
       "      <td>12</td>\n",
       "      <td>4</td>\n",
       "      <td>742</td>\n",
       "      <td>69</td>\n",
       "    </tr>\n",
       "    <tr>\n",
       "      <th>9</th>\n",
       "      <td>6</td>\n",
       "      <td>16</td>\n",
       "      <td>3</td>\n",
       "      <td>9</td>\n",
       "      <td>38</td>\n",
       "      <td>1</td>\n",
       "      <td>0</td>\n",
       "      <td>15</td>\n",
       "      <td>20</td>\n",
       "      <td>901</td>\n",
       "    </tr>\n",
       "  </tbody>\n",
       "</table>\n",
       "</div>"
      ],
      "text/plain": [
       "     0     1    2    3    4    5    6    7    8    9\n",
       "0  902     0    0    4    1   11   20    1   37    4\n",
       "1    0  1096    1    4    0    0    6    0   28    0\n",
       "2   15    36  778   31    9    5   59   14   79    6\n",
       "3    6    34   26  814    0   18   15   11   44   42\n",
       "4    4     6    5    0  640    4   22    0   19  282\n",
       "5   19    28    7   94   23  574   24   11   64   48\n",
       "6   12    22   12    1    8   24  865    0   13    1\n",
       "7    1    38    8    4   20    0    1  837   25   94\n",
       "8    8    67    8   36   11   17   12    4  742   69\n",
       "9    6    16    3    9   38    1    0   15   20  901"
      ]
     },
     "metadata": {},
     "output_type": "display_data"
    },
    {
     "name": "stdout",
     "output_type": "stream",
     "text": [
      "% error per digit\n"
     ]
    },
    {
     "data": {
      "text/html": [
       "<div>\n",
       "<style>\n",
       "    .dataframe thead tr:only-child th {\n",
       "        text-align: right;\n",
       "    }\n",
       "\n",
       "    .dataframe thead th {\n",
       "        text-align: left;\n",
       "    }\n",
       "\n",
       "    .dataframe tbody tr th {\n",
       "        vertical-align: top;\n",
       "    }\n",
       "</style>\n",
       "<table border=\"1\" class=\"dataframe\">\n",
       "  <thead>\n",
       "    <tr style=\"text-align: right;\">\n",
       "      <th></th>\n",
       "      <th>digit</th>\n",
       "      <th>error per digit in %</th>\n",
       "    </tr>\n",
       "  </thead>\n",
       "  <tbody>\n",
       "    <tr>\n",
       "      <th>0</th>\n",
       "      <td>0</td>\n",
       "      <td>7.96</td>\n",
       "    </tr>\n",
       "    <tr>\n",
       "      <th>1</th>\n",
       "      <td>1</td>\n",
       "      <td>3.44</td>\n",
       "    </tr>\n",
       "    <tr>\n",
       "      <th>2</th>\n",
       "      <td>2</td>\n",
       "      <td>24.61</td>\n",
       "    </tr>\n",
       "    <tr>\n",
       "      <th>3</th>\n",
       "      <td>3</td>\n",
       "      <td>19.41</td>\n",
       "    </tr>\n",
       "    <tr>\n",
       "      <th>4</th>\n",
       "      <td>4</td>\n",
       "      <td>34.83</td>\n",
       "    </tr>\n",
       "    <tr>\n",
       "      <th>5</th>\n",
       "      <td>5</td>\n",
       "      <td>35.65</td>\n",
       "    </tr>\n",
       "    <tr>\n",
       "      <th>6</th>\n",
       "      <td>6</td>\n",
       "      <td>9.71</td>\n",
       "    </tr>\n",
       "    <tr>\n",
       "      <th>7</th>\n",
       "      <td>7</td>\n",
       "      <td>18.58</td>\n",
       "    </tr>\n",
       "    <tr>\n",
       "      <th>8</th>\n",
       "      <td>8</td>\n",
       "      <td>23.82</td>\n",
       "    </tr>\n",
       "    <tr>\n",
       "      <th>9</th>\n",
       "      <td>9</td>\n",
       "      <td>10.70</td>\n",
       "    </tr>\n",
       "  </tbody>\n",
       "</table>\n",
       "</div>"
      ],
      "text/plain": [
       "   digit  error per digit in %\n",
       "0      0                  7.96\n",
       "1      1                  3.44\n",
       "2      2                 24.61\n",
       "3      3                 19.41\n",
       "4      4                 34.83\n",
       "5      5                 35.65\n",
       "6      6                  9.71\n",
       "7      7                 18.58\n",
       "8      8                 23.82\n",
       "9      9                 10.70"
      ]
     },
     "metadata": {},
     "output_type": "display_data"
    },
    {
     "name": "stdout",
     "output_type": "stream",
     "text": [
      "\n",
      "The overall testing error is 18.51%\n"
     ]
    }
   ],
   "source": [
    "util = Utility()\n",
    "best_s = smoothings_nb[np.argmin(kfold_nb)]\n",
    "nb = NaiveBayes(train=util.train, train_lb=util.train_label, test=util.test, test_lb=util.test_label, smoothing=best_s)\n",
    "nb.predict()\n",
    "conf_matix = util.confusionMatrix(util.test_label, nb.pred)"
   ]
  },
  {
   "cell_type": "markdown",
   "metadata": {},
   "source": [
    "From the information above the overall error is 18.51% (which is about 81.49% accuracy). The digits 0 and 1 tend to have minimal error rate compare to the other digits, this can be attributed to the fact that the digits 0 and 1 have low variabilities. Generally, people tend to write digits 0 and 1 in the right way.\n",
    "\n",
    "Digits 4 & 5 have the high error rates, visualizing some of them show that they have high variations. Digit 4 is mostly misclassified has 9, some people tend to write 4 in a way that it looks like 9. Also, digit 2 is mostly misclassified as 8.\n",
    "\n",
    "Digit 9 is mostly misclassified as either 4 or 8, likewise, digits 4 and 8 are also occasionally misclassified as 9.\n",
    "\n",
    "Generally, Naive Bayes did poorly on the MNIST dataset, this could be attributed to the independent assumption which is likely not to be correct. Query time is faster compared to KNN, however, KNN provided better performance on the MNIST dataset. Naive Bayes doesn't perform well when there are repeated attributes or when attributes are not equally important, which are the case in the MNIST dataset."
   ]
  },
  {
   "cell_type": "markdown",
   "metadata": {},
   "source": [
    "#### Visualizing the 784 conditional probabilities per class (as 28 x 28 images) for a test sample with actual label 1 which is rightly classified:"
   ]
  },
  {
   "cell_type": "code",
   "execution_count": 14,
   "metadata": {},
   "outputs": [
    {
     "data": {
      "image/png": "[encoded data removed]",
      "text/plain": [
       "<matplotlib.figure.Figure at 0x1f0aee2dc88>"
      ]
     },
     "metadata": {},
     "output_type": "display_data"
    }
   ],
   "source": [
    "Utility.images_plot(nb.likelihood[2])"
   ]
  },
  {
   "cell_type": "markdown",
   "metadata": {},
   "source": [
    "This is really fascinating, the classifier actually modeled the image that corresponds to the class, i.e P(x|c=0) modeled an image of 0, etc. While the actual label is presented on the modeled image. Thus, in the case above, the actual label really match the C=1."
   ]
  },
  {
   "cell_type": "markdown",
   "metadata": {},
   "source": [
    "#### Visualizing the 784 conditional probabilities per class (as 28 x 28 images) for a test sample with actual label 4 which is wrongly classified as 9:"
   ]
  },
  {
   "cell_type": "code",
   "execution_count": 15,
   "metadata": {},
   "outputs": [
    {
     "data": {
      "image/png": "[encoded data removed]",
      "text/plain": [
       "<matplotlib.figure.Figure at 0x1f0aee556a0>"
      ]
     },
     "metadata": {},
     "output_type": "display_data"
    }
   ],
   "source": [
    "Utility.images_plot(nb.likelihood[9997])"
   ]
  },
  {
   "cell_type": "markdown",
   "metadata": {},
   "source": [
    "In this instance, the actual label doesn't fit well on P(x|c=4), it seems more fitted on P(x|c=9), hence the classier prediction it as 9. On the confusion matrix, digit 4 is mostly classified as 9. Some people tend to write 4 in a way that it looks like 9."
   ]
  }
 ],
 "metadata": {
  "kernelspec": {
   "display_name": "Python 3",
   "language": "python",
   "name": "python3"
  },
  "language_info": {
   "codemirror_mode": {
    "name": "ipython",
    "version": 3
   },
   "file_extension": ".py",
   "mimetype": "text/x-python",
   "name": "python",
   "nbconvert_exporter": "python",
   "pygments_lexer": "ipython3",
   "version": "3.6.1"
  }
 },
 "nbformat": 4,
 "nbformat_minor": 2
}
